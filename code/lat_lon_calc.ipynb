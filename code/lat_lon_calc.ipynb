{
 "cells": [
  {
   "cell_type": "code",
   "execution_count": 66,
   "metadata": {},
   "outputs": [],
   "source": [
    "import pandas as pd\n",
    "import numpy as np"
   ]
  },
  {
   "cell_type": "code",
   "execution_count": 70,
   "metadata": {},
   "outputs": [],
   "source": [
    "Latitude = 40.496214\n",
    "Longitude = -74.247866"
   ]
  },
  {
   "cell_type": "code",
   "execution_count": 71,
   "metadata": {},
   "outputs": [],
   "source": [
    "import math\n",
    "\n",
    "# Distances are measured in miles.\n",
    "# Longitudes and latitudes are measured in degrees.\n",
    "# Earth is assumed to be perfectly spherical.\n",
    "\n",
    "earth_radius = 3960.0\n",
    "degrees_to_radians = math.pi/180.0\n",
    "radians_to_degrees = 180.0/math.pi\n",
    "\n",
    "def change_in_latitude(miles):\n",
    "    \"Given a distance north, return the change in latitude.\"\n",
    "    return (miles/earth_radius)*radians_to_degrees\n",
    "\n",
    "def change_in_longitude(latitude, miles):\n",
    "    \"Given a latitude and a distance west, return the change in longitude.\"\n",
    "    # Find the radius of a circle around the earth at given latitude.\n",
    "    r = earth_radius*math.cos(latitude*degrees_to_radians)\n",
    "    return (miles/r)*radians_to_degrees"
   ]
  },
  {
   "cell_type": "code",
   "execution_count": 72,
   "metadata": {},
   "outputs": [
    {
     "data": {
      "text/plain": [
       "0.007234315595086152"
      ]
     },
     "execution_count": 72,
     "metadata": {},
     "output_type": "execute_result"
    }
   ],
   "source": [
    "change_in_latitude(0.5)"
   ]
  },
  {
   "cell_type": "code",
   "execution_count": 81,
   "metadata": {},
   "outputs": [
    {
     "data": {
      "text/plain": [
       "0.00951321752422269"
      ]
     },
     "execution_count": 81,
     "metadata": {},
     "output_type": "execute_result"
    }
   ],
   "source": [
    "change_in_longitude(Latitude, 0.50)"
   ]
  },
  {
   "cell_type": "code",
   "execution_count": 75,
   "metadata": {},
   "outputs": [
    {
     "name": "stdout",
     "output_type": "stream",
     "text": [
      "6.005662840626383e-05\n"
     ]
    }
   ],
   "source": [
    "northernmost= 0.009573274152628954\n",
    "southern = 0.00951321752422269\n",
    "\n",
    "print(northernmost-southern)"
   ]
  },
  {
   "cell_type": "code",
   "execution_count": null,
   "metadata": {},
   "outputs": [],
   "source": [
    ".00006005662840626383e-05"
   ]
  }
 ],
 "metadata": {
  "kernelspec": {
   "display_name": "Python 3",
   "language": "python",
   "name": "python3"
  },
  "language_info": {
   "codemirror_mode": {
    "name": "ipython",
    "version": 3
   },
   "file_extension": ".py",
   "mimetype": "text/x-python",
   "name": "python",
   "nbconvert_exporter": "python",
   "pygments_lexer": "ipython3",
   "version": "3.8.3"
  }
 },
 "nbformat": 4,
 "nbformat_minor": 4
}
